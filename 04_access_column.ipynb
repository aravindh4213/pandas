{
 "cells": [
  {
   "cell_type": "code",
   "execution_count": 20,
   "metadata": {},
   "outputs": [],
   "source": [
    "import pandas as pd"
   ]
  },
  {
   "cell_type": "code",
   "execution_count": 21,
   "metadata": {},
   "outputs": [
    {
     "data": {
      "text/html": [
       "<div>\n",
       "<style scoped>\n",
       "    .dataframe tbody tr th:only-of-type {\n",
       "        vertical-align: middle;\n",
       "    }\n",
       "\n",
       "    .dataframe tbody tr th {\n",
       "        vertical-align: top;\n",
       "    }\n",
       "\n",
       "    .dataframe thead th {\n",
       "        text-align: right;\n",
       "    }\n",
       "</style>\n",
       "<table border=\"1\" class=\"dataframe\">\n",
       "  <thead>\n",
       "    <tr style=\"text-align: right;\">\n",
       "      <th></th>\n",
       "      <th>Car</th>\n",
       "      <th>MPG</th>\n",
       "      <th>Cylinders</th>\n",
       "      <th>Displacement</th>\n",
       "      <th>Horsepower</th>\n",
       "      <th>Weight</th>\n",
       "      <th>Acceleration</th>\n",
       "      <th>Model</th>\n",
       "      <th>Origin</th>\n",
       "    </tr>\n",
       "  </thead>\n",
       "  <tbody>\n",
       "    <tr>\n",
       "      <th>0</th>\n",
       "      <td>Chevrolet Chevelle Malibu</td>\n",
       "      <td>18.0</td>\n",
       "      <td>8.0</td>\n",
       "      <td>307.0</td>\n",
       "      <td>130.0</td>\n",
       "      <td>3504</td>\n",
       "      <td>12.0</td>\n",
       "      <td>70</td>\n",
       "      <td>US</td>\n",
       "    </tr>\n",
       "    <tr>\n",
       "      <th>1</th>\n",
       "      <td>Buick Skylark 320</td>\n",
       "      <td>15.0</td>\n",
       "      <td>8.0</td>\n",
       "      <td>350.0</td>\n",
       "      <td>165.0</td>\n",
       "      <td>3693</td>\n",
       "      <td>11.5</td>\n",
       "      <td>70</td>\n",
       "      <td>US</td>\n",
       "    </tr>\n",
       "    <tr>\n",
       "      <th>2</th>\n",
       "      <td>Plymouth Satellite</td>\n",
       "      <td>18.0</td>\n",
       "      <td>8.0</td>\n",
       "      <td>318.0</td>\n",
       "      <td>150.0</td>\n",
       "      <td>3436</td>\n",
       "      <td>NaN</td>\n",
       "      <td>70</td>\n",
       "      <td>US</td>\n",
       "    </tr>\n",
       "    <tr>\n",
       "      <th>3</th>\n",
       "      <td>AMC Rebel SST</td>\n",
       "      <td>16.0</td>\n",
       "      <td>8.0</td>\n",
       "      <td>304.0</td>\n",
       "      <td>150.0</td>\n",
       "      <td>3433</td>\n",
       "      <td>12.0</td>\n",
       "      <td>70</td>\n",
       "      <td>US</td>\n",
       "    </tr>\n",
       "    <tr>\n",
       "      <th>4</th>\n",
       "      <td>Ford Torino</td>\n",
       "      <td>17.0</td>\n",
       "      <td>8.0</td>\n",
       "      <td>302.0</td>\n",
       "      <td>140.0</td>\n",
       "      <td>3449</td>\n",
       "      <td>10.5</td>\n",
       "      <td>70</td>\n",
       "      <td>US</td>\n",
       "    </tr>\n",
       "    <tr>\n",
       "      <th>...</th>\n",
       "      <td>...</td>\n",
       "      <td>...</td>\n",
       "      <td>...</td>\n",
       "      <td>...</td>\n",
       "      <td>...</td>\n",
       "      <td>...</td>\n",
       "      <td>...</td>\n",
       "      <td>...</td>\n",
       "      <td>...</td>\n",
       "    </tr>\n",
       "    <tr>\n",
       "      <th>401</th>\n",
       "      <td>Ford Mustang GL</td>\n",
       "      <td>27.0</td>\n",
       "      <td>4.0</td>\n",
       "      <td>140.0</td>\n",
       "      <td>86.0</td>\n",
       "      <td>2790</td>\n",
       "      <td>15.6</td>\n",
       "      <td>82</td>\n",
       "      <td>US</td>\n",
       "    </tr>\n",
       "    <tr>\n",
       "      <th>402</th>\n",
       "      <td>Volkswagen Pickup</td>\n",
       "      <td>44.0</td>\n",
       "      <td>4.0</td>\n",
       "      <td>97.0</td>\n",
       "      <td>52.0</td>\n",
       "      <td>2130</td>\n",
       "      <td>24.6</td>\n",
       "      <td>82</td>\n",
       "      <td>Europe</td>\n",
       "    </tr>\n",
       "    <tr>\n",
       "      <th>403</th>\n",
       "      <td>Dodge Rampage</td>\n",
       "      <td>32.0</td>\n",
       "      <td>4.0</td>\n",
       "      <td>135.0</td>\n",
       "      <td>84.0</td>\n",
       "      <td>2295</td>\n",
       "      <td>11.6</td>\n",
       "      <td>82</td>\n",
       "      <td>US</td>\n",
       "    </tr>\n",
       "    <tr>\n",
       "      <th>404</th>\n",
       "      <td>Ford Ranger</td>\n",
       "      <td>28.0</td>\n",
       "      <td>4.0</td>\n",
       "      <td>120.0</td>\n",
       "      <td>79.0</td>\n",
       "      <td>2625</td>\n",
       "      <td>18.6</td>\n",
       "      <td>82</td>\n",
       "      <td>US</td>\n",
       "    </tr>\n",
       "    <tr>\n",
       "      <th>405</th>\n",
       "      <td>Chevy S-10</td>\n",
       "      <td>31.0</td>\n",
       "      <td>4.0</td>\n",
       "      <td>119.0</td>\n",
       "      <td>82.0</td>\n",
       "      <td>2720</td>\n",
       "      <td>19.4</td>\n",
       "      <td>82</td>\n",
       "      <td>US</td>\n",
       "    </tr>\n",
       "  </tbody>\n",
       "</table>\n",
       "<p>406 rows × 9 columns</p>\n",
       "</div>"
      ],
      "text/plain": [
       "                           Car   MPG  Cylinders  Displacement  Horsepower  \\\n",
       "0    Chevrolet Chevelle Malibu  18.0        8.0         307.0       130.0   \n",
       "1            Buick Skylark 320  15.0        8.0         350.0       165.0   \n",
       "2           Plymouth Satellite  18.0        8.0         318.0       150.0   \n",
       "3                AMC Rebel SST  16.0        8.0         304.0       150.0   \n",
       "4                  Ford Torino  17.0        8.0         302.0       140.0   \n",
       "..                         ...   ...        ...           ...         ...   \n",
       "401            Ford Mustang GL  27.0        4.0         140.0        86.0   \n",
       "402          Volkswagen Pickup  44.0        4.0          97.0        52.0   \n",
       "403              Dodge Rampage  32.0        4.0         135.0        84.0   \n",
       "404                Ford Ranger  28.0        4.0         120.0        79.0   \n",
       "405                 Chevy S-10  31.0        4.0         119.0        82.0   \n",
       "\n",
       "     Weight  Acceleration  Model  Origin  \n",
       "0      3504          12.0     70      US  \n",
       "1      3693          11.5     70      US  \n",
       "2      3436           NaN     70      US  \n",
       "3      3433          12.0     70      US  \n",
       "4      3449          10.5     70      US  \n",
       "..      ...           ...    ...     ...  \n",
       "401    2790          15.6     82      US  \n",
       "402    2130          24.6     82  Europe  \n",
       "403    2295          11.6     82      US  \n",
       "404    2625          18.6     82      US  \n",
       "405    2720          19.4     82      US  \n",
       "\n",
       "[406 rows x 9 columns]"
      ]
     },
     "execution_count": 21,
     "metadata": {},
     "output_type": "execute_result"
    }
   ],
   "source": [
    "df=pd.read_csv('data/cars.csv')\n",
    "df"
   ]
  },
  {
   "cell_type": "code",
   "execution_count": null,
   "metadata": {},
   "outputs": [],
   "source": [
    "df."
   ]
  },
  {
   "cell_type": "code",
   "execution_count": 22,
   "metadata": {},
   "outputs": [
    {
     "data": {
      "text/plain": [
       "0      Chevrolet Chevelle Malibu\n",
       "1              Buick Skylark 320\n",
       "2             Plymouth Satellite\n",
       "3                  AMC Rebel SST\n",
       "4                    Ford Torino\n",
       "                 ...            \n",
       "401              Ford Mustang GL\n",
       "402            Volkswagen Pickup\n",
       "403                Dodge Rampage\n",
       "404                  Ford Ranger\n",
       "405                   Chevy S-10\n",
       "Name: Car, Length: 406, dtype: object"
      ]
     },
     "execution_count": 22,
     "metadata": {},
     "output_type": "execute_result"
    }
   ],
   "source": [
    "df['Car']"
   ]
  },
  {
   "cell_type": "code",
   "execution_count": 23,
   "metadata": {},
   "outputs": [
    {
     "data": {
      "text/plain": [
       "0      Chevrolet Chevelle Malibu\n",
       "1              Buick Skylark 320\n",
       "2             Plymouth Satellite\n",
       "3                  AMC Rebel SST\n",
       "4                    Ford Torino\n",
       "                 ...            \n",
       "401              Ford Mustang GL\n",
       "402            Volkswagen Pickup\n",
       "403                Dodge Rampage\n",
       "404                  Ford Ranger\n",
       "405                   Chevy S-10\n",
       "Name: Car, Length: 406, dtype: object"
      ]
     },
     "execution_count": 23,
     "metadata": {},
     "output_type": "execute_result"
    }
   ],
   "source": [
    "df.Car"
   ]
  },
  {
   "cell_type": "code",
   "execution_count": 24,
   "metadata": {},
   "outputs": [
    {
     "data": {
      "text/html": [
       "<div>\n",
       "<style scoped>\n",
       "    .dataframe tbody tr th:only-of-type {\n",
       "        vertical-align: middle;\n",
       "    }\n",
       "\n",
       "    .dataframe tbody tr th {\n",
       "        vertical-align: top;\n",
       "    }\n",
       "\n",
       "    .dataframe thead th {\n",
       "        text-align: right;\n",
       "    }\n",
       "</style>\n",
       "<table border=\"1\" class=\"dataframe\">\n",
       "  <thead>\n",
       "    <tr style=\"text-align: right;\">\n",
       "      <th></th>\n",
       "      <th>Car</th>\n",
       "    </tr>\n",
       "  </thead>\n",
       "  <tbody>\n",
       "    <tr>\n",
       "      <th>0</th>\n",
       "      <td>Chevrolet Chevelle Malibu</td>\n",
       "    </tr>\n",
       "    <tr>\n",
       "      <th>1</th>\n",
       "      <td>Buick Skylark 320</td>\n",
       "    </tr>\n",
       "    <tr>\n",
       "      <th>2</th>\n",
       "      <td>Plymouth Satellite</td>\n",
       "    </tr>\n",
       "    <tr>\n",
       "      <th>3</th>\n",
       "      <td>AMC Rebel SST</td>\n",
       "    </tr>\n",
       "    <tr>\n",
       "      <th>4</th>\n",
       "      <td>Ford Torino</td>\n",
       "    </tr>\n",
       "    <tr>\n",
       "      <th>...</th>\n",
       "      <td>...</td>\n",
       "    </tr>\n",
       "    <tr>\n",
       "      <th>401</th>\n",
       "      <td>Ford Mustang GL</td>\n",
       "    </tr>\n",
       "    <tr>\n",
       "      <th>402</th>\n",
       "      <td>Volkswagen Pickup</td>\n",
       "    </tr>\n",
       "    <tr>\n",
       "      <th>403</th>\n",
       "      <td>Dodge Rampage</td>\n",
       "    </tr>\n",
       "    <tr>\n",
       "      <th>404</th>\n",
       "      <td>Ford Ranger</td>\n",
       "    </tr>\n",
       "    <tr>\n",
       "      <th>405</th>\n",
       "      <td>Chevy S-10</td>\n",
       "    </tr>\n",
       "  </tbody>\n",
       "</table>\n",
       "<p>406 rows × 1 columns</p>\n",
       "</div>"
      ],
      "text/plain": [
       "                           Car\n",
       "0    Chevrolet Chevelle Malibu\n",
       "1            Buick Skylark 320\n",
       "2           Plymouth Satellite\n",
       "3                AMC Rebel SST\n",
       "4                  Ford Torino\n",
       "..                         ...\n",
       "401            Ford Mustang GL\n",
       "402          Volkswagen Pickup\n",
       "403              Dodge Rampage\n",
       "404                Ford Ranger\n",
       "405                 Chevy S-10\n",
       "\n",
       "[406 rows x 1 columns]"
      ]
     },
     "execution_count": 24,
     "metadata": {},
     "output_type": "execute_result"
    }
   ],
   "source": [
    "df.get(['Car'])"
   ]
  },
  {
   "cell_type": "markdown",
   "metadata": {},
   "source": [
    "## Accesing Multiple Feature"
   ]
  },
  {
   "cell_type": "code",
   "execution_count": 25,
   "metadata": {},
   "outputs": [
    {
     "data": {
      "text/html": [
       "<div>\n",
       "<style scoped>\n",
       "    .dataframe tbody tr th:only-of-type {\n",
       "        vertical-align: middle;\n",
       "    }\n",
       "\n",
       "    .dataframe tbody tr th {\n",
       "        vertical-align: top;\n",
       "    }\n",
       "\n",
       "    .dataframe thead th {\n",
       "        text-align: right;\n",
       "    }\n",
       "</style>\n",
       "<table border=\"1\" class=\"dataframe\">\n",
       "  <thead>\n",
       "    <tr style=\"text-align: right;\">\n",
       "      <th></th>\n",
       "      <th>Car</th>\n",
       "      <th>Model</th>\n",
       "      <th>Displacement</th>\n",
       "    </tr>\n",
       "  </thead>\n",
       "  <tbody>\n",
       "    <tr>\n",
       "      <th>0</th>\n",
       "      <td>Chevrolet Chevelle Malibu</td>\n",
       "      <td>70</td>\n",
       "      <td>307.0</td>\n",
       "    </tr>\n",
       "    <tr>\n",
       "      <th>1</th>\n",
       "      <td>Buick Skylark 320</td>\n",
       "      <td>70</td>\n",
       "      <td>350.0</td>\n",
       "    </tr>\n",
       "    <tr>\n",
       "      <th>2</th>\n",
       "      <td>Plymouth Satellite</td>\n",
       "      <td>70</td>\n",
       "      <td>318.0</td>\n",
       "    </tr>\n",
       "    <tr>\n",
       "      <th>3</th>\n",
       "      <td>AMC Rebel SST</td>\n",
       "      <td>70</td>\n",
       "      <td>304.0</td>\n",
       "    </tr>\n",
       "    <tr>\n",
       "      <th>4</th>\n",
       "      <td>Ford Torino</td>\n",
       "      <td>70</td>\n",
       "      <td>302.0</td>\n",
       "    </tr>\n",
       "    <tr>\n",
       "      <th>...</th>\n",
       "      <td>...</td>\n",
       "      <td>...</td>\n",
       "      <td>...</td>\n",
       "    </tr>\n",
       "    <tr>\n",
       "      <th>401</th>\n",
       "      <td>Ford Mustang GL</td>\n",
       "      <td>82</td>\n",
       "      <td>140.0</td>\n",
       "    </tr>\n",
       "    <tr>\n",
       "      <th>402</th>\n",
       "      <td>Volkswagen Pickup</td>\n",
       "      <td>82</td>\n",
       "      <td>97.0</td>\n",
       "    </tr>\n",
       "    <tr>\n",
       "      <th>403</th>\n",
       "      <td>Dodge Rampage</td>\n",
       "      <td>82</td>\n",
       "      <td>135.0</td>\n",
       "    </tr>\n",
       "    <tr>\n",
       "      <th>404</th>\n",
       "      <td>Ford Ranger</td>\n",
       "      <td>82</td>\n",
       "      <td>120.0</td>\n",
       "    </tr>\n",
       "    <tr>\n",
       "      <th>405</th>\n",
       "      <td>Chevy S-10</td>\n",
       "      <td>82</td>\n",
       "      <td>119.0</td>\n",
       "    </tr>\n",
       "  </tbody>\n",
       "</table>\n",
       "<p>406 rows × 3 columns</p>\n",
       "</div>"
      ],
      "text/plain": [
       "                           Car  Model  Displacement\n",
       "0    Chevrolet Chevelle Malibu     70         307.0\n",
       "1            Buick Skylark 320     70         350.0\n",
       "2           Plymouth Satellite     70         318.0\n",
       "3                AMC Rebel SST     70         304.0\n",
       "4                  Ford Torino     70         302.0\n",
       "..                         ...    ...           ...\n",
       "401            Ford Mustang GL     82         140.0\n",
       "402          Volkswagen Pickup     82          97.0\n",
       "403              Dodge Rampage     82         135.0\n",
       "404                Ford Ranger     82         120.0\n",
       "405                 Chevy S-10     82         119.0\n",
       "\n",
       "[406 rows x 3 columns]"
      ]
     },
     "execution_count": 25,
     "metadata": {},
     "output_type": "execute_result"
    }
   ],
   "source": [
    "df[['Car','Model','Displacement']]"
   ]
  },
  {
   "cell_type": "markdown",
   "metadata": {},
   "source": [
    "## Row Index"
   ]
  },
  {
   "cell_type": "code",
   "execution_count": 26,
   "metadata": {},
   "outputs": [
    {
     "data": {
      "text/plain": [
       "RangeIndex(start=0, stop=406, step=1)"
      ]
     },
     "execution_count": 26,
     "metadata": {},
     "output_type": "execute_result"
    }
   ],
   "source": [
    "df.index"
   ]
  },
  {
   "cell_type": "code",
   "execution_count": 27,
   "metadata": {},
   "outputs": [
    {
     "data": {
      "text/plain": [
       "RangeIndex(start=0, stop=406, step=1)"
      ]
     },
     "execution_count": 27,
     "metadata": {},
     "output_type": "execute_result"
    }
   ],
   "source": [
    "df['Car'].index"
   ]
  },
  {
   "cell_type": "markdown",
   "metadata": {},
   "source": [
    "## Column Name "
   ]
  },
  {
   "cell_type": "code",
   "execution_count": 28,
   "metadata": {},
   "outputs": [
    {
     "data": {
      "text/plain": [
       "Index(['Car', 'MPG', 'Cylinders', 'Displacement', 'Horsepower', 'Weight',\n",
       "       'Acceleration', 'Model', 'Origin'],\n",
       "      dtype='object')"
      ]
     },
     "execution_count": 28,
     "metadata": {},
     "output_type": "execute_result"
    }
   ],
   "source": [
    "df.columns"
   ]
  },
  {
   "cell_type": "markdown",
   "metadata": {},
   "source": [
    "## Data Types "
   ]
  },
  {
   "cell_type": "code",
   "execution_count": 30,
   "metadata": {},
   "outputs": [
    {
     "data": {
      "text/plain": [
       "Car              object\n",
       "MPG             float64\n",
       "Cylinders       float64\n",
       "Displacement    float64\n",
       "Horsepower      float64\n",
       "Weight            int64\n",
       "Acceleration    float64\n",
       "Model             int64\n",
       "Origin           object\n",
       "dtype: object"
      ]
     },
     "execution_count": 30,
     "metadata": {},
     "output_type": "execute_result"
    }
   ],
   "source": [
    "df.dtypes"
   ]
  },
  {
   "cell_type": "code",
   "execution_count": 31,
   "metadata": {},
   "outputs": [
    {
     "data": {
      "text/plain": [
       "dtype('O')"
      ]
     },
     "execution_count": 31,
     "metadata": {},
     "output_type": "execute_result"
    }
   ],
   "source": [
    "df['Origin'].dtypes"
   ]
  },
  {
   "cell_type": "markdown",
   "metadata": {},
   "source": [
    "## Information"
   ]
  },
  {
   "cell_type": "code",
   "execution_count": 32,
   "metadata": {},
   "outputs": [
    {
     "name": "stdout",
     "output_type": "stream",
     "text": [
      "<class 'pandas.core.frame.DataFrame'>\n",
      "RangeIndex: 406 entries, 0 to 405\n",
      "Data columns (total 9 columns):\n",
      " #   Column        Non-Null Count  Dtype  \n",
      "---  ------        --------------  -----  \n",
      " 0   Car           406 non-null    object \n",
      " 1   MPG           406 non-null    float64\n",
      " 2   Cylinders     405 non-null    float64\n",
      " 3   Displacement  406 non-null    float64\n",
      " 4   Horsepower    404 non-null    float64\n",
      " 5   Weight        406 non-null    int64  \n",
      " 6   Acceleration  405 non-null    float64\n",
      " 7   Model         406 non-null    int64  \n",
      " 8   Origin        406 non-null    object \n",
      "dtypes: float64(5), int64(2), object(2)\n",
      "memory usage: 28.7+ KB\n"
     ]
    }
   ],
   "source": [
    "df.info()"
   ]
  },
  {
   "cell_type": "code",
   "execution_count": 33,
   "metadata": {},
   "outputs": [
    {
     "name": "stdout",
     "output_type": "stream",
     "text": [
      "<class 'pandas.core.series.Series'>\n",
      "RangeIndex: 406 entries, 0 to 405\n",
      "Series name: Weight\n",
      "Non-Null Count  Dtype\n",
      "--------------  -----\n",
      "406 non-null    int64\n",
      "dtypes: int64(1)\n",
      "memory usage: 3.3 KB\n"
     ]
    }
   ],
   "source": [
    "df['Weight'].info()"
   ]
  },
  {
   "cell_type": "markdown",
   "metadata": {},
   "source": [
    "## VAlues"
   ]
  },
  {
   "cell_type": "code",
   "execution_count": 34,
   "metadata": {},
   "outputs": [
    {
     "data": {
      "text/plain": [
       "array([['Chevrolet Chevelle Malibu', 18.0, 8.0, ..., 12.0, 70, 'US'],\n",
       "       ['Buick Skylark 320', 15.0, 8.0, ..., 11.5, 70, 'US'],\n",
       "       ['Plymouth Satellite', 18.0, 8.0, ..., nan, 70, 'US'],\n",
       "       ...,\n",
       "       ['Dodge Rampage', 32.0, 4.0, ..., 11.6, 82, 'US'],\n",
       "       ['Ford Ranger', 28.0, 4.0, ..., 18.6, 82, 'US'],\n",
       "       ['Chevy S-10', 31.0, 4.0, ..., 19.4, 82, 'US']],\n",
       "      shape=(406, 9), dtype=object)"
      ]
     },
     "execution_count": 34,
     "metadata": {},
     "output_type": "execute_result"
    }
   ],
   "source": [
    "df.values"
   ]
  },
  {
   "cell_type": "code",
   "execution_count": 35,
   "metadata": {},
   "outputs": [
    {
     "data": {
      "text/plain": [
       "array(['US', 'US', 'US', 'US', 'US', 'US', 'US', 'US', 'US', 'US',\n",
       "       'Europe', 'US', 'US', 'US', 'US', 'US', 'US', 'US', 'US', 'US',\n",
       "       'Japan', 'US', 'US', 'US', 'Japan', 'Europe', 'Europe', 'Europe',\n",
       "       'Europe', 'Europe', 'US', 'US', 'US', 'US', 'US', 'Japan', 'US',\n",
       "       'Japan', 'US', 'Europe', 'US', 'US', 'US', 'US', 'US', 'US', 'US',\n",
       "       'US', 'US', 'US', 'US', 'US', 'US', 'US', 'US', 'US', 'US',\n",
       "       'Europe', 'Europe', 'Europe', 'Japan', 'Japan', 'Europe', 'US',\n",
       "       'Japan', 'US', 'Europe', 'US', 'US', 'US', 'US', 'US', 'US', 'US',\n",
       "       'US', 'US', 'US', 'US', 'Japan', 'US', 'US', 'US', 'US', 'Europe',\n",
       "       'Europe', 'Europe', 'Europe', 'US', 'Japan', 'Japan', 'US',\n",
       "       'Japan', 'US', 'US', 'US', 'US', 'US', 'US', 'US', 'US', 'US',\n",
       "       'US', 'US', 'US', 'US', 'US', 'US', 'US', 'US', 'Europe', 'US',\n",
       "       'US', 'US', 'US', 'US', 'Japan', 'US', 'Japan', 'Japan', 'US',\n",
       "       'US', 'Europe', 'US', 'US', 'Europe', 'Europe', 'Europe', 'Europe',\n",
       "       'US', 'Europe', 'Japan', 'US', 'US', 'US', 'US', 'US', 'Japan',\n",
       "       'US', 'Japan', 'US', 'US', 'US', 'US', 'US', 'US', 'US', 'US',\n",
       "       'US', 'Europe', 'Europe', 'Europe', 'Japan', 'Japan', 'US',\n",
       "       'Europe', 'Europe', 'Japan', 'Japan', 'Europe', 'US', 'US', 'US',\n",
       "       'US', 'US', 'US', 'US', 'US', 'US', 'US', 'US', 'US', 'US', 'US',\n",
       "       'US', 'Japan', 'US', 'US', 'US', 'Japan', 'Europe', 'Japan', 'US',\n",
       "       'Europe', 'US', 'Europe', 'Europe', 'Europe', 'Europe', 'Japan',\n",
       "       'Europe', 'Europe', 'US', 'US', 'Europe', 'US', 'US', 'US', 'US',\n",
       "       'US', 'US', 'US', 'US', 'US', 'US', 'Europe', 'Japan', 'US', 'US',\n",
       "       'US', 'US', 'Europe', 'Japan', 'Japan', 'US', 'Europe', 'US',\n",
       "       'Europe', 'Japan', 'Europe', 'US', 'US', 'US', 'US', 'Japan', 'US',\n",
       "       'Europe', 'US', 'Japan', 'US', 'US', 'US', 'US', 'US', 'US', 'US',\n",
       "       'US', 'US', 'US', 'US', 'US', 'Europe', 'US', 'Japan', 'US', 'US',\n",
       "       'US', 'Japan', 'Europe', 'Japan', 'Europe', 'Japan', 'Europe',\n",
       "       'US', 'Japan', 'Japan', 'Japan', 'US', 'US', 'US', 'US', 'US',\n",
       "       'US', 'US', 'US', 'US', 'US', 'US', 'US', 'US', 'US', 'US', 'US',\n",
       "       'US', 'US', 'Japan', 'Japan', 'US', 'Japan', 'US', 'US', 'Japan',\n",
       "       'Europe', 'Europe', 'Europe', 'Europe', 'Europe', 'Japan', 'US',\n",
       "       'US', 'US', 'US', 'US', 'US', 'US', 'US', 'US', 'US', 'US', 'US',\n",
       "       'US', 'Europe', 'Japan', 'US', 'US', 'Europe', 'US', 'Europe',\n",
       "       'US', 'US', 'US', 'Japan', 'Europe', 'US', 'US', 'US', 'US',\n",
       "       'Europe', 'Japan', 'US', 'Japan', 'US', 'US', 'US', 'US', 'Europe',\n",
       "       'Japan', 'Japan', 'Japan', 'Japan', 'Japan', 'US', 'Japan',\n",
       "       'Europe', 'Europe', 'Europe', 'Europe', 'Japan', 'Europe', 'Japan',\n",
       "       'Europe', 'Japan', 'Japan', 'Europe', 'US', 'Japan', 'US', 'US',\n",
       "       'US', 'US', 'US', 'Japan', 'US', 'Japan', 'Japan', 'Japan',\n",
       "       'Japan', 'Japan', 'US', 'US', 'US', 'Europe', 'Europe', 'Japan',\n",
       "       'Japan', 'Japan', 'Japan', 'Europe', 'Europe', 'Europe', 'Japan',\n",
       "       'Japan', 'US', 'US', 'US', 'US', 'US', 'US', 'US', 'US', 'US',\n",
       "       'US', 'US', 'US', 'Europe', 'Japan', 'Japan', 'US', 'US', 'Japan',\n",
       "       'Japan', 'Japan', 'Japan', 'Japan', 'Japan', 'US', 'US', 'US',\n",
       "       'US', 'Japan', 'US', 'US', 'US', 'Europe', 'US', 'US', 'US'],\n",
       "      dtype=object)"
      ]
     },
     "execution_count": 35,
     "metadata": {},
     "output_type": "execute_result"
    }
   ],
   "source": [
    "df['Origin'].values"
   ]
  },
  {
   "cell_type": "code",
   "execution_count": 37,
   "metadata": {},
   "outputs": [
    {
     "name": "stdout",
     "output_type": "stream",
     "text": [
      "Chevrolet Chevelle Malibu\n",
      "Buick Skylark 320\n",
      "Plymouth Satellite\n",
      "AMC Rebel SST\n",
      "Ford Torino\n",
      "Ford Galaxie 500\n",
      "Chevrolet Impala\n",
      "Plymouth Fury iii\n",
      "Pontiac Catalina\n",
      "AMC Ambassador DPL\n",
      "Citroen DS-21 Pallas\n",
      "Chevrolet Chevelle Concours (sw)\n",
      "Ford Torino (sw)\n",
      "Plymouth Satellite (sw)\n",
      "AMC Rebel SST (sw)\n",
      "Dodge Challenger SE\n",
      "Plymouth 'Cuda 340\n",
      "Ford Mustang Boss 302\n",
      "Chevrolet Monte Carlo\n",
      "Buick Estate Wagon (sw)\n",
      "Toyota Corolla Mark ii\n",
      "Plymouth Duster\n",
      "AMC Hornet\n",
      "Ford Maverick\n",
      "Datsun PL510\n",
      "Volkswagen 1131 Deluxe Sedan\n",
      "Peugeot 504\n",
      "Audi 100 LS\n",
      "Saab 99e\n",
      "BMW 2002\n",
      "AMC Gremlin\n",
      "Ford F250\n",
      "Chevy C20\n",
      "Dodge D200\n",
      "Hi 1200D\n",
      "Datsun PL510\n",
      "Chevrolet Vega 2300\n",
      "Toyota Corolla\n",
      "Ford Pinto\n",
      "Volkswagen Super Beetle 117\n",
      "AMC Gremlin\n",
      "Plymouth Satellite Custom\n",
      "Chevrolet Chevelle Malibu\n",
      "Ford Torino 500\n",
      "AMC Matador\n",
      "Chevrolet Impala\n",
      "Pontiac Catalina Brougham\n",
      "Ford Galaxie 500\n",
      "Plymouth Fury iii\n",
      "Dodge Monaco (sw)\n",
      "Ford Country Squire (sw)\n",
      "Pontiac Safari (sw)\n",
      "AMC Hornet Sportabout (sw)\n",
      "Chevrolet Vega (sw)\n",
      "Pontiac Firebird\n",
      "Ford Mustang\n",
      "Mercury Capri 2000\n",
      "Opel 1900\n",
      "Peugeot 304\n",
      "Fiat 124B\n",
      "Toyota Corolla 1200\n",
      "Datsun 1200\n",
      "Volkswagen Model 111\n",
      "Plymouth Cricket\n",
      "Toyota Corolla Hardtop\n",
      "Dodge Colt Hardtop\n",
      "Volkswagen Type 3\n",
      "Chevrolet Vega\n",
      "Ford Pinto Runabout\n",
      "Chevrolet Impala\n",
      "Pontiac Catalina\n",
      "Plymouth Fury III\n",
      "Ford Galaxie 500\n",
      "AMC Ambassador SST\n",
      "Mercury Marquis\n",
      "Buick LeSabre Custom\n",
      "Oldsmobile Delta 88 Royale\n",
      "Chrysler Newport Royal\n",
      "Mazda RX2 Coupe\n",
      "AMC Matador (sw)\n",
      "Chevrolet Chevelle Concours (sw)\n",
      "Ford Gran Torino (sw)\n",
      "Plymouth Satellite Custom (sw)\n",
      "Volvo 145e (sw)\n",
      "Volkswagen 411 (sw)\n",
      "Peugeot 504 (sw)\n",
      "Renault 12 (sw)\n",
      "Ford Pinto (sw)\n",
      "Datsun 510 (sw)\n",
      "Toyota Corolla Mark II (sw)\n",
      "Dodge Colt (sw)\n",
      "Toyota Corolla 1600 (sw)\n",
      "Buick Century 350\n",
      "AMC Matador\n",
      "Chevrolet Malibu\n",
      "Ford Gran Torino\n",
      "Dodge Coronet Custom\n",
      "Mercury Marquis Brougham\n",
      "Chevrolet Caprice Classic\n",
      "Ford LTD\n",
      "Plymouth Fury Gran Sedan\n",
      "Chrysler New Yorker Brougham\n",
      "Buick Electra 225 Custom\n",
      "AMC Ambassador Brougham\n",
      "Plymouth Valiant\n",
      "Chevrolet Nova Custom\n",
      "AMC Hornet\n",
      "Ford Maverick\n",
      "Plymouth Duster\n",
      "Volkswagen Super Beetle\n",
      "Chevrolet Impala\n",
      "Ford Country\n",
      "Plymouth Custom Suburb\n",
      "Oldsmobile Vista Cruiser\n",
      "AMC Gremlin\n",
      "Toyota Camry\n",
      "Chevrolet Vega\n",
      "Datsun 610\n",
      "Mazda RX3\n",
      "Ford Pinto\n",
      "Mercury Capri v6\n",
      "Fiat 124 Sport Coupe\n",
      "Chevrolet Monte Carlo S\n",
      "Pontiac Grand Prix\n",
      "Fiat 128\n",
      "Opel Manta\n",
      "Audi 100LS\n",
      "Volvo 144ea\n",
      "Dodge Dart Custom\n",
      "Saab 99le\n",
      "Toyota Mark II\n",
      "Oldsmobile Omega\n",
      "Plymouth Duster\n",
      "Ford Maverick\n",
      "AMC Hornet\n",
      "Chevrolet Nova\n",
      "Datsun B210\n",
      "Ford Pinto\n",
      "Toyota Corolla 1200\n",
      "Chevrolet Vega\n",
      "Chevrolet Chevelle Malibu Classic\n",
      "AMC Matador\n",
      "Plymouth Satellite Sebring\n",
      "Ford Gran Torino\n",
      "Buick Century Luxus (sw)\n",
      "Dodge Coronet Custom (sw)\n",
      "Ford Gran Torino (sw)\n",
      "AMC Matador (sw)\n",
      "Audi Fox\n",
      "Volkswagen Dasher\n",
      "Opel Manta\n",
      "Toyota Corolla\n",
      "Datsun 710\n",
      "Dodge Colt\n",
      "Fiat 128\n",
      "Fiat 124 TC\n",
      "Honda Civic\n",
      "Subaru\n",
      "Fiat x1.9\n",
      "Plymouth Valiant Custom\n",
      "Chevrolet Nova\n",
      "Mercury Monarch\n",
      "Ford Maverick\n",
      "Pontiac Catalina\n",
      "Chevrolet Bel Air\n",
      "Plymouth Grand Fury\n",
      "Ford LTD\n",
      "Buick Century\n",
      "Chevrolete Chevelle Malibu\n",
      "AMC Matador\n",
      "Plymouth Fury\n",
      "Buick Skyhawk\n",
      "Chevrolet Monza 2+2\n",
      "Ford Mustang II\n",
      "Toyota Corolla\n",
      "Ford Pinto\n",
      "AMC Gremlin\n",
      "Pontiac Astro\n",
      "Toyota Corolla\n",
      "Volkswagen Dasher\n",
      "Datsun 710\n",
      "Ford Pinto\n",
      "Volkswagen Rabbit\n",
      "AMC Pacer\n",
      "Audi 100LS\n",
      "Peugeot 504\n",
      "Volvo 244DL\n",
      "Saab 99LE\n",
      "Honda Civic CVCC\n",
      "Fiat 131\n",
      "Opel 1900\n",
      "Capri ii\n",
      "Dodge Colt\n",
      "Renault 12tl\n",
      "Chevrolet Chevelle Malibu Classic\n",
      "Dodge Coronet Brougham\n",
      "AMC Matador\n",
      "Ford Gran Torino\n",
      "Plymouth Valiant\n",
      "Chevrolet Nova\n",
      "Ford Maverick\n",
      "AMC Hornet\n",
      "Chevrolet Chevette\n",
      "Chevrolet Woody\n",
      "Volkswagen Rabbit\n",
      "Honda Civic\n",
      "Dodge Aspen SE\n",
      "Ford Grenada ghia\n",
      "Pontiac Ventura SJ\n",
      "AMC Pacer d/l\n",
      "Volkswagen Rabbit\n",
      "Datsun B-210\n",
      "Toyota Corolla\n",
      "Ford Pinto\n",
      "Volvo 245\n",
      "Plymouth Volare Premier v8\n",
      "Peugeot 504\n",
      "Toyota Mark II\n",
      "Mercedes-Benz 280s\n",
      "Cadillac Seville\n",
      "Chevrolet C10\n",
      "Ford F108\n",
      "Dodge D100\n",
      "Honda Accord CVCC\n",
      "Buick Opel Isuzu Deluxe\n",
      "Renault 5 GTL\n",
      "Plymouth Arrow GS\n",
      "Datsun F-10 Hatchback\n",
      "Chevrolet Caprice Classic\n",
      "Oldsmobile Cutlass Supreme\n",
      "Dodge Monaco Brougham\n",
      "Mercury Cougar Brougham\n",
      "Chevrolet Concours\n",
      "Buick Skylark\n",
      "Plymouth Volare Custom\n",
      "Ford Grenada\n",
      "Pontiac Grand Prix LJ\n",
      "Chevrolet Monte Carlo Landau\n",
      "Chrysler Cordoba\n",
      "Ford Thunderbird\n",
      "Volkswagen Rabbit Custom\n",
      "Pontiac Sunbird Coupe\n",
      "Toyota Corolla Liftback\n",
      "Ford Mustang II 2+2\n",
      "Chevrolet Chevette\n",
      "Dodge Colt m/m\n",
      "Subaru DL\n",
      "Volkswagen Dasher\n",
      "Datsun 810\n",
      "BMW 320i\n",
      "Mazda RX-4\n",
      "Volkswagen Rabbit Custom Diesel\n",
      "Ford Fiesta\n",
      "Mazda GLC Deluxe\n",
      "Datsun B210 GX\n",
      "Honda Civic CVCC\n",
      "Oldsmobile Cutlass Salon Brougham\n",
      "Dodge Diplomat\n",
      "Mercury Monarch ghia\n",
      "Pontiac Phoenix LJ\n",
      "Chevrolet Malibu\n",
      "Ford Fairmont (auto)\n",
      "Ford Fairmont (man)\n",
      "Plymouth Volare\n",
      "AMC Concord\n",
      "Buick Century Special\n",
      "Mercury Zephyr\n",
      "Dodge Aspen\n",
      "AMC Concord d/l\n",
      "Chevrolet Monte Carlo Landau\n",
      "Buick Regal Sport Coupe (turbo)\n",
      "Ford Futura\n",
      "Dodge Magnum XE\n",
      "Chevrolet Chevette\n",
      "Toyota Corolla\n",
      "Datsun 510\n",
      "Dodge Omni\n",
      "Toyota Celica GT Liftback\n",
      "Plymouth Sapporo\n",
      "Oldsmobile Starfire SX\n",
      "Datsun 200-SX\n",
      "Audi 5000\n",
      "Volvo 264gl\n",
      "Saab 99gle\n",
      "Peugeot 604sl\n",
      "Volkswagen Scirocco\n",
      "Honda Accord LX\n",
      "Pontiac Lemans V6\n",
      "Mercury Zephyr 6\n",
      "Ford Fairmont 4\n",
      "AMC Concord DL 6\n",
      "Dodge Aspen 6\n",
      "Chevrolet Caprice Classic\n",
      "Ford LTD Landau\n",
      "Mercury Grand Marquis\n",
      "Dodge St. Regis\n",
      "Buick Estate Wagon (sw)\n",
      "Ford Country Squire (sw)\n",
      "Chevrolet Malibu Classic (sw)\n",
      "Chrysler Lebaron Town @ Country (sw)\n",
      "Volkswagen Rabbit Custom\n",
      "Mazda GLC Deluxe\n",
      "Dodge Colt Hatchback Custom\n",
      "AMC Spirit DL\n",
      "Mercedes Benz 300d\n",
      "Cadillac Eldorado\n",
      "Peugeot 504\n",
      "Oldsmobile Cutlass Salon Brougham\n",
      "Plymouth Horizon\n",
      "Plymouth Horizon TC3\n",
      "Datsun 210\n",
      "Fiat Strada Custom\n",
      "Buick Skylark Limited\n",
      "Chevrolet Citation\n",
      "Oldsmobile Omega Brougham\n",
      "Pontiac Phoenix\n",
      "Volkswagen Rabbit\n",
      "Toyota Corolla Tercel\n",
      "Chevrolet Chevette\n",
      "Datsun 310\n",
      "Chevrolet Citation\n",
      "Ford Fairmont\n",
      "AMC Concord\n",
      "Dodge Aspen\n",
      "Audi 4000\n",
      "Toyota Corolla Liftback\n",
      "Mazda 626\n",
      "Datsun 510 Hatchback\n",
      "Toyota Corolla\n",
      "Mazda GLC\n",
      "Dodge Colt\n",
      "Datsun 210\n",
      "Volkswagen Rabbit C (Diesel)\n",
      "Volkswagen Dasher (diesel)\n",
      "Audi 5000s (diesel)\n",
      "Mercedes-Benz 240d\n",
      "Honda Civic 1500 gl\n",
      "Renault Lecar Deluxe\n",
      "Subaru DL\n",
      "Volkswagen Rabbit\n",
      "Datsun 280-ZX\n",
      "Mazda RX-7 GS\n",
      "Triumph TR7 Coupe\n",
      "Ford Mustang Cobra\n",
      "Honda Accord\n",
      "Plymouth Reliant\n",
      "Buick Skylark\n",
      "Dodge Aries Wagon (sw)\n",
      "Chevrolet Citation\n",
      "Plymouth Reliant\n",
      "Toyota Starlet\n",
      "Plymouth Champ\n",
      "Honda Civic 1300\n",
      "Subaru\n",
      "Datsun 210 MPG\n",
      "Toyota Tercel\n",
      "Mazda GLC 4\n",
      "Plymouth Horizon 4\n",
      "Ford Escort 4W\n",
      "Ford Escort 2H\n",
      "Volkswagen Jetta\n",
      "Renault 18i\n",
      "Honda Prelude\n",
      "Toyota Corolla\n",
      "Datsun 200SX\n",
      "Mazda 626\n",
      "Peugeot 505s Turbo Diesel\n",
      "Saab 900s\n",
      "Volvo Diesel\n",
      "Toyota Cressida\n",
      "Datsun 810 Maxima\n",
      "Buick Century\n",
      "Oldsmobile Cutlass LS\n",
      "Ford Grenada gl\n",
      "Chrysler Lebaron Salon\n",
      "Chevrolet Cavalier\n",
      "Chevrolet Cavalier Wagon\n",
      "Chevrolet Cavalier 2-door\n",
      "Pontiac J2000 SE Hatchback\n",
      "Dodge Aries SE\n",
      "Pontiac Phoenix\n",
      "Ford Fairmont Futura\n",
      "AMC Concord DL\n",
      "Volkswagen Rabbit l\n",
      "Mazda GLC Custom l\n",
      "Mazda GLC Custom\n",
      "Plymouth Horizon Miser\n",
      "Mercury Lynx l\n",
      "Nissan Stanza XE\n",
      "Honda Accord\n",
      "Toyota Corolla\n",
      "Honda Civic\n",
      "Honda Civic (auto)\n",
      "Datsun 310 GX\n",
      "Buick Century Limited\n",
      "Oldsmobile Cutlass Ciera (diesel)\n",
      "Chrysler Lebaron Medallion\n",
      "Ford Grenada l\n",
      "Toyota Celica GT\n",
      "Dodge Charger 2.2\n",
      "Chevrolet Camaro\n",
      "Ford Mustang GL\n",
      "Volkswagen Pickup\n",
      "Dodge Rampage\n",
      "Ford Ranger\n",
      "Chevy S-10\n"
     ]
    }
   ],
   "source": [
    "for Car in df ['Car'].values:\n",
    "    print(Car)"
   ]
  },
  {
   "cell_type": "markdown",
   "metadata": {},
   "source": [
    "## Axes"
   ]
  },
  {
   "cell_type": "code",
   "execution_count": 38,
   "metadata": {},
   "outputs": [
    {
     "data": {
      "text/plain": [
       "[RangeIndex(start=0, stop=406, step=1),\n",
       " Index(['Car', 'MPG', 'Cylinders', 'Displacement', 'Horsepower', 'Weight',\n",
       "        'Acceleration', 'Model', 'Origin'],\n",
       "       dtype='object')]"
      ]
     },
     "execution_count": 38,
     "metadata": {},
     "output_type": "execute_result"
    }
   ],
   "source": [
    "df.axes"
   ]
  },
  {
   "cell_type": "code",
   "execution_count": 39,
   "metadata": {},
   "outputs": [
    {
     "data": {
      "text/plain": [
       "RangeIndex(start=0, stop=406, step=1)"
      ]
     },
     "execution_count": 39,
     "metadata": {},
     "output_type": "execute_result"
    }
   ],
   "source": [
    "df.axes[0]"
   ]
  },
  {
   "cell_type": "code",
   "execution_count": 40,
   "metadata": {},
   "outputs": [
    {
     "data": {
      "text/plain": [
       "Index(['Car', 'MPG', 'Cylinders', 'Displacement', 'Horsepower', 'Weight',\n",
       "       'Acceleration', 'Model', 'Origin'],\n",
       "      dtype='object')"
      ]
     },
     "execution_count": 40,
     "metadata": {},
     "output_type": "execute_result"
    }
   ],
   "source": [
    "df.axes[1]"
   ]
  },
  {
   "cell_type": "markdown",
   "metadata": {},
   "source": [
    "## Dimension"
   ]
  },
  {
   "cell_type": "code",
   "execution_count": 41,
   "metadata": {},
   "outputs": [
    {
     "data": {
      "text/plain": [
       "2"
      ]
     },
     "execution_count": 41,
     "metadata": {},
     "output_type": "execute_result"
    }
   ],
   "source": [
    "df.ndim"
   ]
  },
  {
   "cell_type": "code",
   "execution_count": 42,
   "metadata": {},
   "outputs": [
    {
     "data": {
      "text/plain": [
       "1"
      ]
     },
     "execution_count": 42,
     "metadata": {},
     "output_type": "execute_result"
    }
   ],
   "source": [
    "df['Origin'].ndim"
   ]
  },
  {
   "cell_type": "markdown",
   "metadata": {},
   "source": [
    "## Shape"
   ]
  },
  {
   "cell_type": "code",
   "execution_count": null,
   "metadata": {},
   "outputs": [],
   "source": []
  },
  {
   "cell_type": "markdown",
   "metadata": {},
   "source": []
  }
 ],
 "metadata": {
  "kernelspec": {
   "display_name": "Python 3",
   "language": "python",
   "name": "python3"
  },
  "language_info": {
   "codemirror_mode": {
    "name": "ipython",
    "version": 3
   },
   "file_extension": ".py",
   "mimetype": "text/x-python",
   "name": "python",
   "nbconvert_exporter": "python",
   "pygments_lexer": "ipython3",
   "version": "3.12.2"
  }
 },
 "nbformat": 4,
 "nbformat_minor": 2
}
